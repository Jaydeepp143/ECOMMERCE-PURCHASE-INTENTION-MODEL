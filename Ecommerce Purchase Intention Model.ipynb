{
 "cells": [
  {
   "cell_type": "markdown",
   "id": "30446ac8-0768-4036-8ab4-31387be5b412",
   "metadata": {},
   "source": [
    "Loading the dataset"
   ]
  },
  {
   "cell_type": "code",
   "execution_count": 82,
   "id": "fc2ddbb7-5887-43cf-b8a4-992da4dee0c0",
   "metadata": {},
   "outputs": [],
   "source": [
    "import time\n",
    "import pandas as pd\n",
    "import numpy as np\n",
    "import seaborn as sns\n",
    "import matplotlib.pyplot as plt\n",
    "\n",
    "from sklearn.model_selection import train_test_split\n",
    "from sklearn.model_selection import cross_val_score\n",
    "from sklearn.model_selection import GridSearchCV\n",
    "\n",
    "from sklearn.feature_selection import SelectKBest\n",
    "from sklearn.feature_selection import chi2\n",
    "\n",
    "from imblearn.over_sampling import SMOTE\n",
    "\n",
    "from imblearn.pipeline import Pipeline as imbpipeline\n",
    "from sklearn.pipeline import Pipeline\n",
    "\n",
    "from sklearn.compose import ColumnTransformer\n",
    "from sklearn.impute import SimpleImputer\n",
    "\n",
    "from sklearn.preprocessing import OneHotEncoder\n",
    "from sklearn.preprocessing import OrdinalEncoder\n",
    "from sklearn.preprocessing import StandardScaler\n",
    "from sklearn.preprocessing import MinMaxScaler\n",
    "\n",
    "from sklearn.metrics import accuracy_score\n",
    "from sklearn.metrics import roc_auc_score\n",
    "from sklearn.metrics import classification_report\n",
    "from sklearn.metrics import confusion_matrix\n",
    "from sklearn.metrics import f1_score\n",
    "\n",
    "from sklearn.svm import SVC\n",
    "from xgboost import XGBClassifier\n",
    "from sklearn.dummy import DummyClassifier\n",
    "from sklearn.neighbors import KNeighborsClassifier\n",
    "from sklearn.tree import DecisionTreeClassifier\n",
    "from sklearn.linear_model import RidgeClassifier\n",
    "from sklearn.linear_model import SGDClassifier\n",
    "from sklearn.ensemble import RandomForestClassifier\n",
    "from sklearn.naive_bayes import BernoulliNB\n"
   ]
  },
  {
   "cell_type": "markdown",
   "id": "2e24a14a-c2ee-45f9-b379-dd0db641eeea",
   "metadata": {},
   "source": [
    "To ignore warning"
   ]
  },
  {
   "cell_type": "code",
   "execution_count": 81,
   "id": "bd4a1f07-70e6-4350-a8b0-41008e8c27c8",
   "metadata": {},
   "outputs": [],
   "source": [
    "from warnings import simplefilter\n",
    "from sklearn.exceptions import ConvergenceWarning\n",
    "simplefilter(\"ignore\", category=ConvergenceWarning)"
   ]
  },
  {
   "cell_type": "code",
   "execution_count": 47,
   "id": "3a728a65-1b12-40eb-8282-1da08c726558",
   "metadata": {},
   "outputs": [],
   "source": [
    "df = pd.read_csv(\"data/online_shoppers_data.csv\")"
   ]
  },
  {
   "cell_type": "markdown",
   "id": "512d289b-2abf-4f3f-9840-1230134c244d",
   "metadata": {},
   "source": [
    "checking Five columns rows"
   ]
  },
  {
   "cell_type": "code",
   "execution_count": 48,
   "id": "63255a4f-a63b-451f-ac18-9e4670bbc261",
   "metadata": {},
   "outputs": [
    {
     "data": {
      "text/html": [
       "<div>\n",
       "<style scoped>\n",
       "    .dataframe tbody tr th:only-of-type {\n",
       "        vertical-align: middle;\n",
       "    }\n",
       "\n",
       "    .dataframe tbody tr th {\n",
       "        vertical-align: top;\n",
       "    }\n",
       "\n",
       "    .dataframe thead th {\n",
       "        text-align: right;\n",
       "    }\n",
       "</style>\n",
       "<table border=\"1\" class=\"dataframe\">\n",
       "  <thead>\n",
       "    <tr style=\"text-align: right;\">\n",
       "      <th></th>\n",
       "      <th>Administrative</th>\n",
       "      <th>Administrative_Duration</th>\n",
       "      <th>Informational</th>\n",
       "      <th>Informational_Duration</th>\n",
       "      <th>ProductRelated</th>\n",
       "      <th>ProductRelated_Duration</th>\n",
       "      <th>BounceRates</th>\n",
       "      <th>ExitRates</th>\n",
       "      <th>PageValues</th>\n",
       "      <th>SpecialDay</th>\n",
       "      <th>Month</th>\n",
       "      <th>OperatingSystems</th>\n",
       "      <th>Browser</th>\n",
       "      <th>Region</th>\n",
       "      <th>TrafficType</th>\n",
       "      <th>VisitorType</th>\n",
       "      <th>Weekend</th>\n",
       "      <th>Revenue</th>\n",
       "    </tr>\n",
       "  </thead>\n",
       "  <tbody>\n",
       "    <tr>\n",
       "      <th>0</th>\n",
       "      <td>0</td>\n",
       "      <td>0.0</td>\n",
       "      <td>0</td>\n",
       "      <td>0.0</td>\n",
       "      <td>1</td>\n",
       "      <td>0.000000</td>\n",
       "      <td>0.20</td>\n",
       "      <td>0.20</td>\n",
       "      <td>0.0</td>\n",
       "      <td>0.0</td>\n",
       "      <td>Feb</td>\n",
       "      <td>1</td>\n",
       "      <td>1</td>\n",
       "      <td>1</td>\n",
       "      <td>1</td>\n",
       "      <td>Returning_Visitor</td>\n",
       "      <td>False</td>\n",
       "      <td>False</td>\n",
       "    </tr>\n",
       "    <tr>\n",
       "      <th>1</th>\n",
       "      <td>0</td>\n",
       "      <td>0.0</td>\n",
       "      <td>0</td>\n",
       "      <td>0.0</td>\n",
       "      <td>2</td>\n",
       "      <td>64.000000</td>\n",
       "      <td>0.00</td>\n",
       "      <td>0.10</td>\n",
       "      <td>0.0</td>\n",
       "      <td>0.0</td>\n",
       "      <td>Feb</td>\n",
       "      <td>2</td>\n",
       "      <td>2</td>\n",
       "      <td>1</td>\n",
       "      <td>2</td>\n",
       "      <td>Returning_Visitor</td>\n",
       "      <td>False</td>\n",
       "      <td>False</td>\n",
       "    </tr>\n",
       "    <tr>\n",
       "      <th>2</th>\n",
       "      <td>0</td>\n",
       "      <td>0.0</td>\n",
       "      <td>0</td>\n",
       "      <td>0.0</td>\n",
       "      <td>1</td>\n",
       "      <td>0.000000</td>\n",
       "      <td>0.20</td>\n",
       "      <td>0.20</td>\n",
       "      <td>0.0</td>\n",
       "      <td>0.0</td>\n",
       "      <td>Feb</td>\n",
       "      <td>4</td>\n",
       "      <td>1</td>\n",
       "      <td>9</td>\n",
       "      <td>3</td>\n",
       "      <td>Returning_Visitor</td>\n",
       "      <td>False</td>\n",
       "      <td>False</td>\n",
       "    </tr>\n",
       "    <tr>\n",
       "      <th>3</th>\n",
       "      <td>0</td>\n",
       "      <td>0.0</td>\n",
       "      <td>0</td>\n",
       "      <td>0.0</td>\n",
       "      <td>2</td>\n",
       "      <td>2.666667</td>\n",
       "      <td>0.05</td>\n",
       "      <td>0.14</td>\n",
       "      <td>0.0</td>\n",
       "      <td>0.0</td>\n",
       "      <td>Feb</td>\n",
       "      <td>3</td>\n",
       "      <td>2</td>\n",
       "      <td>2</td>\n",
       "      <td>4</td>\n",
       "      <td>Returning_Visitor</td>\n",
       "      <td>False</td>\n",
       "      <td>False</td>\n",
       "    </tr>\n",
       "    <tr>\n",
       "      <th>4</th>\n",
       "      <td>0</td>\n",
       "      <td>0.0</td>\n",
       "      <td>0</td>\n",
       "      <td>0.0</td>\n",
       "      <td>10</td>\n",
       "      <td>627.500000</td>\n",
       "      <td>0.02</td>\n",
       "      <td>0.05</td>\n",
       "      <td>0.0</td>\n",
       "      <td>0.0</td>\n",
       "      <td>Feb</td>\n",
       "      <td>3</td>\n",
       "      <td>3</td>\n",
       "      <td>1</td>\n",
       "      <td>4</td>\n",
       "      <td>Returning_Visitor</td>\n",
       "      <td>True</td>\n",
       "      <td>False</td>\n",
       "    </tr>\n",
       "  </tbody>\n",
       "</table>\n",
       "</div>"
      ],
      "text/plain": [
       "   Administrative  Administrative_Duration  Informational  \\\n",
       "0               0                      0.0              0   \n",
       "1               0                      0.0              0   \n",
       "2               0                      0.0              0   \n",
       "3               0                      0.0              0   \n",
       "4               0                      0.0              0   \n",
       "\n",
       "   Informational_Duration  ProductRelated  ProductRelated_Duration  \\\n",
       "0                     0.0               1                 0.000000   \n",
       "1                     0.0               2                64.000000   \n",
       "2                     0.0               1                 0.000000   \n",
       "3                     0.0               2                 2.666667   \n",
       "4                     0.0              10               627.500000   \n",
       "\n",
       "   BounceRates  ExitRates  PageValues  SpecialDay Month  OperatingSystems  \\\n",
       "0         0.20       0.20         0.0         0.0   Feb                 1   \n",
       "1         0.00       0.10         0.0         0.0   Feb                 2   \n",
       "2         0.20       0.20         0.0         0.0   Feb                 4   \n",
       "3         0.05       0.14         0.0         0.0   Feb                 3   \n",
       "4         0.02       0.05         0.0         0.0   Feb                 3   \n",
       "\n",
       "   Browser  Region  TrafficType        VisitorType  Weekend  Revenue  \n",
       "0        1       1            1  Returning_Visitor    False    False  \n",
       "1        2       1            2  Returning_Visitor    False    False  \n",
       "2        1       9            3  Returning_Visitor    False    False  \n",
       "3        2       2            4  Returning_Visitor    False    False  \n",
       "4        3       1            4  Returning_Visitor     True    False  "
      ]
     },
     "execution_count": 48,
     "metadata": {},
     "output_type": "execute_result"
    }
   ],
   "source": [
    "df.head()"
   ]
  },
  {
   "cell_type": "markdown",
   "id": "4e4140d5-990d-47a4-85df-01a45b74a5e7",
   "metadata": {},
   "source": [
    "Checking number of rows and column"
   ]
  },
  {
   "cell_type": "code",
   "execution_count": 49,
   "id": "93a37cc8-265d-42a4-833f-30f5d8753c37",
   "metadata": {},
   "outputs": [
    {
     "data": {
      "text/plain": [
       "(12330, 18)"
      ]
     },
     "execution_count": 49,
     "metadata": {},
     "output_type": "execute_result"
    }
   ],
   "source": [
    "df.shape"
   ]
  },
  {
   "cell_type": "markdown",
   "id": "d799eb88-3584-4e7f-bbf5-b3066365ec2d",
   "metadata": {},
   "source": [
    "Checking Dataset information"
   ]
  },
  {
   "cell_type": "code",
   "execution_count": 50,
   "id": "82b7f662-dad3-4322-bc11-55237b6b067b",
   "metadata": {},
   "outputs": [
    {
     "name": "stdout",
     "output_type": "stream",
     "text": [
      "<class 'pandas.core.frame.DataFrame'>\n",
      "RangeIndex: 12330 entries, 0 to 12329\n",
      "Data columns (total 18 columns):\n",
      " #   Column                   Non-Null Count  Dtype  \n",
      "---  ------                   --------------  -----  \n",
      " 0   Administrative           12330 non-null  int64  \n",
      " 1   Administrative_Duration  12330 non-null  float64\n",
      " 2   Informational            12330 non-null  int64  \n",
      " 3   Informational_Duration   12330 non-null  float64\n",
      " 4   ProductRelated           12330 non-null  int64  \n",
      " 5   ProductRelated_Duration  12330 non-null  float64\n",
      " 6   BounceRates              12330 non-null  float64\n",
      " 7   ExitRates                12330 non-null  float64\n",
      " 8   PageValues               12330 non-null  float64\n",
      " 9   SpecialDay               12330 non-null  float64\n",
      " 10  Month                    12330 non-null  object \n",
      " 11  OperatingSystems         12330 non-null  int64  \n",
      " 12  Browser                  12330 non-null  int64  \n",
      " 13  Region                   12330 non-null  int64  \n",
      " 14  TrafficType              12330 non-null  int64  \n",
      " 15  VisitorType              12330 non-null  object \n",
      " 16  Weekend                  12330 non-null  bool   \n",
      " 17  Revenue                  12330 non-null  bool   \n",
      "dtypes: bool(2), float64(7), int64(7), object(2)\n",
      "memory usage: 1.5+ MB\n"
     ]
    }
   ],
   "source": [
    "df.info()"
   ]
  },
  {
   "cell_type": "markdown",
   "id": "25cadc7b-0aa0-425c-8e9c-90e82d7a0785",
   "metadata": {},
   "source": [
    "Feature Engineering"
   ]
  },
  {
   "cell_type": "markdown",
   "id": "eef423a5-eca5-4e7c-81fe-b9d0a43fae15",
   "metadata": {},
   "source": [
    "Checking unique values in Weekend column"
   ]
  },
  {
   "cell_type": "code",
   "execution_count": 51,
   "id": "e7e43d14-874c-4994-95ae-594e4b755816",
   "metadata": {},
   "outputs": [
    {
     "data": {
      "text/plain": [
       "array([False,  True])"
      ]
     },
     "execution_count": 51,
     "metadata": {},
     "output_type": "execute_result"
    }
   ],
   "source": [
    "df['Weekend'].unique()"
   ]
  },
  {
   "cell_type": "markdown",
   "id": "2c7dfebc-549e-4299-b2a4-1848e0668436",
   "metadata": {},
   "source": [
    "Convert Weekend column to binary values"
   ]
  },
  {
   "cell_type": "code",
   "execution_count": 52,
   "id": "fb263cc9-46ed-4f53-ab2a-6a0da8fe5e7e",
   "metadata": {},
   "outputs": [],
   "source": [
    "df['Weekend']= df['Weekend'].replace((True,False),(1,0))"
   ]
  },
  {
   "cell_type": "code",
   "execution_count": 53,
   "id": "5ed64d9f-a27c-417f-82f6-3e89c908d6fd",
   "metadata": {},
   "outputs": [
    {
     "data": {
      "text/html": [
       "<div>\n",
       "<style scoped>\n",
       "    .dataframe tbody tr th:only-of-type {\n",
       "        vertical-align: middle;\n",
       "    }\n",
       "\n",
       "    .dataframe tbody tr th {\n",
       "        vertical-align: top;\n",
       "    }\n",
       "\n",
       "    .dataframe thead th {\n",
       "        text-align: right;\n",
       "    }\n",
       "</style>\n",
       "<table border=\"1\" class=\"dataframe\">\n",
       "  <thead>\n",
       "    <tr style=\"text-align: right;\">\n",
       "      <th></th>\n",
       "      <th>Administrative</th>\n",
       "      <th>Administrative_Duration</th>\n",
       "      <th>Informational</th>\n",
       "      <th>Informational_Duration</th>\n",
       "      <th>ProductRelated</th>\n",
       "      <th>ProductRelated_Duration</th>\n",
       "      <th>BounceRates</th>\n",
       "      <th>ExitRates</th>\n",
       "      <th>PageValues</th>\n",
       "      <th>SpecialDay</th>\n",
       "      <th>Month</th>\n",
       "      <th>OperatingSystems</th>\n",
       "      <th>Browser</th>\n",
       "      <th>Region</th>\n",
       "      <th>TrafficType</th>\n",
       "      <th>VisitorType</th>\n",
       "      <th>Weekend</th>\n",
       "      <th>Revenue</th>\n",
       "    </tr>\n",
       "  </thead>\n",
       "  <tbody>\n",
       "    <tr>\n",
       "      <th>0</th>\n",
       "      <td>0</td>\n",
       "      <td>0.0</td>\n",
       "      <td>0</td>\n",
       "      <td>0.0</td>\n",
       "      <td>1</td>\n",
       "      <td>0.000000</td>\n",
       "      <td>0.20</td>\n",
       "      <td>0.20</td>\n",
       "      <td>0.0</td>\n",
       "      <td>0.0</td>\n",
       "      <td>Feb</td>\n",
       "      <td>1</td>\n",
       "      <td>1</td>\n",
       "      <td>1</td>\n",
       "      <td>1</td>\n",
       "      <td>Returning_Visitor</td>\n",
       "      <td>0</td>\n",
       "      <td>False</td>\n",
       "    </tr>\n",
       "    <tr>\n",
       "      <th>1</th>\n",
       "      <td>0</td>\n",
       "      <td>0.0</td>\n",
       "      <td>0</td>\n",
       "      <td>0.0</td>\n",
       "      <td>2</td>\n",
       "      <td>64.000000</td>\n",
       "      <td>0.00</td>\n",
       "      <td>0.10</td>\n",
       "      <td>0.0</td>\n",
       "      <td>0.0</td>\n",
       "      <td>Feb</td>\n",
       "      <td>2</td>\n",
       "      <td>2</td>\n",
       "      <td>1</td>\n",
       "      <td>2</td>\n",
       "      <td>Returning_Visitor</td>\n",
       "      <td>0</td>\n",
       "      <td>False</td>\n",
       "    </tr>\n",
       "    <tr>\n",
       "      <th>2</th>\n",
       "      <td>0</td>\n",
       "      <td>0.0</td>\n",
       "      <td>0</td>\n",
       "      <td>0.0</td>\n",
       "      <td>1</td>\n",
       "      <td>0.000000</td>\n",
       "      <td>0.20</td>\n",
       "      <td>0.20</td>\n",
       "      <td>0.0</td>\n",
       "      <td>0.0</td>\n",
       "      <td>Feb</td>\n",
       "      <td>4</td>\n",
       "      <td>1</td>\n",
       "      <td>9</td>\n",
       "      <td>3</td>\n",
       "      <td>Returning_Visitor</td>\n",
       "      <td>0</td>\n",
       "      <td>False</td>\n",
       "    </tr>\n",
       "    <tr>\n",
       "      <th>3</th>\n",
       "      <td>0</td>\n",
       "      <td>0.0</td>\n",
       "      <td>0</td>\n",
       "      <td>0.0</td>\n",
       "      <td>2</td>\n",
       "      <td>2.666667</td>\n",
       "      <td>0.05</td>\n",
       "      <td>0.14</td>\n",
       "      <td>0.0</td>\n",
       "      <td>0.0</td>\n",
       "      <td>Feb</td>\n",
       "      <td>3</td>\n",
       "      <td>2</td>\n",
       "      <td>2</td>\n",
       "      <td>4</td>\n",
       "      <td>Returning_Visitor</td>\n",
       "      <td>0</td>\n",
       "      <td>False</td>\n",
       "    </tr>\n",
       "    <tr>\n",
       "      <th>4</th>\n",
       "      <td>0</td>\n",
       "      <td>0.0</td>\n",
       "      <td>0</td>\n",
       "      <td>0.0</td>\n",
       "      <td>10</td>\n",
       "      <td>627.500000</td>\n",
       "      <td>0.02</td>\n",
       "      <td>0.05</td>\n",
       "      <td>0.0</td>\n",
       "      <td>0.0</td>\n",
       "      <td>Feb</td>\n",
       "      <td>3</td>\n",
       "      <td>3</td>\n",
       "      <td>1</td>\n",
       "      <td>4</td>\n",
       "      <td>Returning_Visitor</td>\n",
       "      <td>1</td>\n",
       "      <td>False</td>\n",
       "    </tr>\n",
       "  </tbody>\n",
       "</table>\n",
       "</div>"
      ],
      "text/plain": [
       "   Administrative  Administrative_Duration  Informational  \\\n",
       "0               0                      0.0              0   \n",
       "1               0                      0.0              0   \n",
       "2               0                      0.0              0   \n",
       "3               0                      0.0              0   \n",
       "4               0                      0.0              0   \n",
       "\n",
       "   Informational_Duration  ProductRelated  ProductRelated_Duration  \\\n",
       "0                     0.0               1                 0.000000   \n",
       "1                     0.0               2                64.000000   \n",
       "2                     0.0               1                 0.000000   \n",
       "3                     0.0               2                 2.666667   \n",
       "4                     0.0              10               627.500000   \n",
       "\n",
       "   BounceRates  ExitRates  PageValues  SpecialDay Month  OperatingSystems  \\\n",
       "0         0.20       0.20         0.0         0.0   Feb                 1   \n",
       "1         0.00       0.10         0.0         0.0   Feb                 2   \n",
       "2         0.20       0.20         0.0         0.0   Feb                 4   \n",
       "3         0.05       0.14         0.0         0.0   Feb                 3   \n",
       "4         0.02       0.05         0.0         0.0   Feb                 3   \n",
       "\n",
       "   Browser  Region  TrafficType        VisitorType  Weekend  Revenue  \n",
       "0        1       1            1  Returning_Visitor        0    False  \n",
       "1        2       1            2  Returning_Visitor        0    False  \n",
       "2        1       9            3  Returning_Visitor        0    False  \n",
       "3        2       2            4  Returning_Visitor        0    False  \n",
       "4        3       1            4  Returning_Visitor        1    False  "
      ]
     },
     "execution_count": 53,
     "metadata": {},
     "output_type": "execute_result"
    }
   ],
   "source": [
    "df.head()"
   ]
  },
  {
   "cell_type": "markdown",
   "id": "e1893c85-7a6b-4687-aeb0-9f90b85066d2",
   "metadata": {},
   "source": [
    "Checking unique values in Revenue column"
   ]
  },
  {
   "cell_type": "code",
   "execution_count": 54,
   "id": "e33ce711-80be-443f-80da-28b1d41a48e8",
   "metadata": {},
   "outputs": [
    {
     "data": {
      "text/plain": [
       "array([False,  True])"
      ]
     },
     "execution_count": 54,
     "metadata": {},
     "output_type": "execute_result"
    }
   ],
   "source": [
    "df['Revenue'].unique()"
   ]
  },
  {
   "cell_type": "markdown",
   "id": "906faa91-37ec-4a58-9133-d94851bce3ec",
   "metadata": {},
   "source": [
    "Convert Revenue column to binary values"
   ]
  },
  {
   "cell_type": "code",
   "execution_count": 55,
   "id": "68310bba-eb41-42ff-bf3b-059cdd24561b",
   "metadata": {},
   "outputs": [],
   "source": [
    "df['Weekend']= df['Weekend'].replace((True,False),(1,0))\n",
    "df['Revenue']= df['Revenue'].replace((True,False),(1,0))"
   ]
  },
  {
   "cell_type": "code",
   "execution_count": 56,
   "id": "3183f87f-4e45-4982-9af3-2963af8ebbf8",
   "metadata": {},
   "outputs": [
    {
     "data": {
      "text/html": [
       "<div>\n",
       "<style scoped>\n",
       "    .dataframe tbody tr th:only-of-type {\n",
       "        vertical-align: middle;\n",
       "    }\n",
       "\n",
       "    .dataframe tbody tr th {\n",
       "        vertical-align: top;\n",
       "    }\n",
       "\n",
       "    .dataframe thead th {\n",
       "        text-align: right;\n",
       "    }\n",
       "</style>\n",
       "<table border=\"1\" class=\"dataframe\">\n",
       "  <thead>\n",
       "    <tr style=\"text-align: right;\">\n",
       "      <th></th>\n",
       "      <th>Administrative</th>\n",
       "      <th>Administrative_Duration</th>\n",
       "      <th>Informational</th>\n",
       "      <th>Informational_Duration</th>\n",
       "      <th>ProductRelated</th>\n",
       "      <th>ProductRelated_Duration</th>\n",
       "      <th>BounceRates</th>\n",
       "      <th>ExitRates</th>\n",
       "      <th>PageValues</th>\n",
       "      <th>SpecialDay</th>\n",
       "      <th>Month</th>\n",
       "      <th>OperatingSystems</th>\n",
       "      <th>Browser</th>\n",
       "      <th>Region</th>\n",
       "      <th>TrafficType</th>\n",
       "      <th>VisitorType</th>\n",
       "      <th>Weekend</th>\n",
       "      <th>Revenue</th>\n",
       "    </tr>\n",
       "  </thead>\n",
       "  <tbody>\n",
       "    <tr>\n",
       "      <th>0</th>\n",
       "      <td>0</td>\n",
       "      <td>0.0</td>\n",
       "      <td>0</td>\n",
       "      <td>0.0</td>\n",
       "      <td>1</td>\n",
       "      <td>0.000000</td>\n",
       "      <td>0.20</td>\n",
       "      <td>0.20</td>\n",
       "      <td>0.0</td>\n",
       "      <td>0.0</td>\n",
       "      <td>Feb</td>\n",
       "      <td>1</td>\n",
       "      <td>1</td>\n",
       "      <td>1</td>\n",
       "      <td>1</td>\n",
       "      <td>Returning_Visitor</td>\n",
       "      <td>0</td>\n",
       "      <td>0</td>\n",
       "    </tr>\n",
       "    <tr>\n",
       "      <th>1</th>\n",
       "      <td>0</td>\n",
       "      <td>0.0</td>\n",
       "      <td>0</td>\n",
       "      <td>0.0</td>\n",
       "      <td>2</td>\n",
       "      <td>64.000000</td>\n",
       "      <td>0.00</td>\n",
       "      <td>0.10</td>\n",
       "      <td>0.0</td>\n",
       "      <td>0.0</td>\n",
       "      <td>Feb</td>\n",
       "      <td>2</td>\n",
       "      <td>2</td>\n",
       "      <td>1</td>\n",
       "      <td>2</td>\n",
       "      <td>Returning_Visitor</td>\n",
       "      <td>0</td>\n",
       "      <td>0</td>\n",
       "    </tr>\n",
       "    <tr>\n",
       "      <th>2</th>\n",
       "      <td>0</td>\n",
       "      <td>0.0</td>\n",
       "      <td>0</td>\n",
       "      <td>0.0</td>\n",
       "      <td>1</td>\n",
       "      <td>0.000000</td>\n",
       "      <td>0.20</td>\n",
       "      <td>0.20</td>\n",
       "      <td>0.0</td>\n",
       "      <td>0.0</td>\n",
       "      <td>Feb</td>\n",
       "      <td>4</td>\n",
       "      <td>1</td>\n",
       "      <td>9</td>\n",
       "      <td>3</td>\n",
       "      <td>Returning_Visitor</td>\n",
       "      <td>0</td>\n",
       "      <td>0</td>\n",
       "    </tr>\n",
       "    <tr>\n",
       "      <th>3</th>\n",
       "      <td>0</td>\n",
       "      <td>0.0</td>\n",
       "      <td>0</td>\n",
       "      <td>0.0</td>\n",
       "      <td>2</td>\n",
       "      <td>2.666667</td>\n",
       "      <td>0.05</td>\n",
       "      <td>0.14</td>\n",
       "      <td>0.0</td>\n",
       "      <td>0.0</td>\n",
       "      <td>Feb</td>\n",
       "      <td>3</td>\n",
       "      <td>2</td>\n",
       "      <td>2</td>\n",
       "      <td>4</td>\n",
       "      <td>Returning_Visitor</td>\n",
       "      <td>0</td>\n",
       "      <td>0</td>\n",
       "    </tr>\n",
       "    <tr>\n",
       "      <th>4</th>\n",
       "      <td>0</td>\n",
       "      <td>0.0</td>\n",
       "      <td>0</td>\n",
       "      <td>0.0</td>\n",
       "      <td>10</td>\n",
       "      <td>627.500000</td>\n",
       "      <td>0.02</td>\n",
       "      <td>0.05</td>\n",
       "      <td>0.0</td>\n",
       "      <td>0.0</td>\n",
       "      <td>Feb</td>\n",
       "      <td>3</td>\n",
       "      <td>3</td>\n",
       "      <td>1</td>\n",
       "      <td>4</td>\n",
       "      <td>Returning_Visitor</td>\n",
       "      <td>1</td>\n",
       "      <td>0</td>\n",
       "    </tr>\n",
       "  </tbody>\n",
       "</table>\n",
       "</div>"
      ],
      "text/plain": [
       "   Administrative  Administrative_Duration  Informational  \\\n",
       "0               0                      0.0              0   \n",
       "1               0                      0.0              0   \n",
       "2               0                      0.0              0   \n",
       "3               0                      0.0              0   \n",
       "4               0                      0.0              0   \n",
       "\n",
       "   Informational_Duration  ProductRelated  ProductRelated_Duration  \\\n",
       "0                     0.0               1                 0.000000   \n",
       "1                     0.0               2                64.000000   \n",
       "2                     0.0               1                 0.000000   \n",
       "3                     0.0               2                 2.666667   \n",
       "4                     0.0              10               627.500000   \n",
       "\n",
       "   BounceRates  ExitRates  PageValues  SpecialDay Month  OperatingSystems  \\\n",
       "0         0.20       0.20         0.0         0.0   Feb                 1   \n",
       "1         0.00       0.10         0.0         0.0   Feb                 2   \n",
       "2         0.20       0.20         0.0         0.0   Feb                 4   \n",
       "3         0.05       0.14         0.0         0.0   Feb                 3   \n",
       "4         0.02       0.05         0.0         0.0   Feb                 3   \n",
       "\n",
       "   Browser  Region  TrafficType        VisitorType  Weekend  Revenue  \n",
       "0        1       1            1  Returning_Visitor        0        0  \n",
       "1        2       1            2  Returning_Visitor        0        0  \n",
       "2        1       9            3  Returning_Visitor        0        0  \n",
       "3        2       2            4  Returning_Visitor        0        0  \n",
       "4        3       1            4  Returning_Visitor        1        0  "
      ]
     },
     "execution_count": 56,
     "metadata": {},
     "output_type": "execute_result"
    }
   ],
   "source": [
    "df.head()"
   ]
  },
  {
   "cell_type": "markdown",
   "id": "b9592158-8865-49ea-90bb-fca2aaa4466a",
   "metadata": {},
   "source": [
    "Added Returning_Visitor column"
   ]
  },
  {
   "cell_type": "markdown",
   "id": "55a838c6-c1a9-41a9-a3dc-611aad1e6d84",
   "metadata": {},
   "source": [
    "Checking unique values in VisitorType column"
   ]
  },
  {
   "cell_type": "code",
   "execution_count": 57,
   "id": "ca30fbc2-8bfd-4675-bafa-3591a9917348",
   "metadata": {},
   "outputs": [],
   "source": [
    "df['Weekend']= df['Weekend'].replace((True,False),(1,0))\n",
    "df['Revenue']= df['Revenue'].replace((True,False),(1,0))"
   ]
  },
  {
   "cell_type": "code",
   "execution_count": 58,
   "id": "65638ecc-87db-4963-9690-409c6e844423",
   "metadata": {},
   "outputs": [
    {
     "data": {
      "text/plain": [
       "array(['Returning_Visitor', 'New_Visitor', 'Other'], dtype=object)"
      ]
     },
     "execution_count": 58,
     "metadata": {},
     "output_type": "execute_result"
    }
   ],
   "source": [
    "df['VisitorType'].unique()"
   ]
  },
  {
   "cell_type": "markdown",
   "id": "bb134979-d86d-42c0-a713-38ddb52a8469",
   "metadata": {},
   "source": [
    "Adding Returning_Visitor column and Convert VisitorType column \n",
    "to binary values"
   ]
  },
  {
   "cell_type": "code",
   "execution_count": 59,
   "id": "c9ea904b-4521-468c-81bc-84581d11fc03",
   "metadata": {},
   "outputs": [],
   "source": [
    "df['Weekend']= df['Weekend'].replace((True,False),(1,0))\n",
    "df['Revenue']= df['Revenue'].replace((True,False),(1,0))"
   ]
  },
  {
   "cell_type": "code",
   "execution_count": 60,
   "id": "2189c42e-ec07-41de-a665-4a335c458e53",
   "metadata": {},
   "outputs": [],
   "source": [
    "condition = df['VisitorType']=='Returning_Visitor'\n",
    "df['Returning_Visitor'] = np.where(condition,1,0)"
   ]
  },
  {
   "cell_type": "code",
   "execution_count": 61,
   "id": "9f253883-dc9c-4dd8-af17-0d5b039643b9",
   "metadata": {},
   "outputs": [
    {
     "data": {
      "text/html": [
       "<div>\n",
       "<style scoped>\n",
       "    .dataframe tbody tr th:only-of-type {\n",
       "        vertical-align: middle;\n",
       "    }\n",
       "\n",
       "    .dataframe tbody tr th {\n",
       "        vertical-align: top;\n",
       "    }\n",
       "\n",
       "    .dataframe thead th {\n",
       "        text-align: right;\n",
       "    }\n",
       "</style>\n",
       "<table border=\"1\" class=\"dataframe\">\n",
       "  <thead>\n",
       "    <tr style=\"text-align: right;\">\n",
       "      <th></th>\n",
       "      <th>Administrative</th>\n",
       "      <th>Administrative_Duration</th>\n",
       "      <th>Informational</th>\n",
       "      <th>Informational_Duration</th>\n",
       "      <th>ProductRelated</th>\n",
       "      <th>ProductRelated_Duration</th>\n",
       "      <th>BounceRates</th>\n",
       "      <th>ExitRates</th>\n",
       "      <th>PageValues</th>\n",
       "      <th>SpecialDay</th>\n",
       "      <th>Month</th>\n",
       "      <th>OperatingSystems</th>\n",
       "      <th>Browser</th>\n",
       "      <th>Region</th>\n",
       "      <th>TrafficType</th>\n",
       "      <th>VisitorType</th>\n",
       "      <th>Weekend</th>\n",
       "      <th>Revenue</th>\n",
       "      <th>Returning_Visitor</th>\n",
       "    </tr>\n",
       "  </thead>\n",
       "  <tbody>\n",
       "    <tr>\n",
       "      <th>0</th>\n",
       "      <td>0</td>\n",
       "      <td>0.0</td>\n",
       "      <td>0</td>\n",
       "      <td>0.0</td>\n",
       "      <td>1</td>\n",
       "      <td>0.000000</td>\n",
       "      <td>0.20</td>\n",
       "      <td>0.20</td>\n",
       "      <td>0.0</td>\n",
       "      <td>0.0</td>\n",
       "      <td>Feb</td>\n",
       "      <td>1</td>\n",
       "      <td>1</td>\n",
       "      <td>1</td>\n",
       "      <td>1</td>\n",
       "      <td>Returning_Visitor</td>\n",
       "      <td>0</td>\n",
       "      <td>0</td>\n",
       "      <td>1</td>\n",
       "    </tr>\n",
       "    <tr>\n",
       "      <th>1</th>\n",
       "      <td>0</td>\n",
       "      <td>0.0</td>\n",
       "      <td>0</td>\n",
       "      <td>0.0</td>\n",
       "      <td>2</td>\n",
       "      <td>64.000000</td>\n",
       "      <td>0.00</td>\n",
       "      <td>0.10</td>\n",
       "      <td>0.0</td>\n",
       "      <td>0.0</td>\n",
       "      <td>Feb</td>\n",
       "      <td>2</td>\n",
       "      <td>2</td>\n",
       "      <td>1</td>\n",
       "      <td>2</td>\n",
       "      <td>Returning_Visitor</td>\n",
       "      <td>0</td>\n",
       "      <td>0</td>\n",
       "      <td>1</td>\n",
       "    </tr>\n",
       "    <tr>\n",
       "      <th>2</th>\n",
       "      <td>0</td>\n",
       "      <td>0.0</td>\n",
       "      <td>0</td>\n",
       "      <td>0.0</td>\n",
       "      <td>1</td>\n",
       "      <td>0.000000</td>\n",
       "      <td>0.20</td>\n",
       "      <td>0.20</td>\n",
       "      <td>0.0</td>\n",
       "      <td>0.0</td>\n",
       "      <td>Feb</td>\n",
       "      <td>4</td>\n",
       "      <td>1</td>\n",
       "      <td>9</td>\n",
       "      <td>3</td>\n",
       "      <td>Returning_Visitor</td>\n",
       "      <td>0</td>\n",
       "      <td>0</td>\n",
       "      <td>1</td>\n",
       "    </tr>\n",
       "    <tr>\n",
       "      <th>3</th>\n",
       "      <td>0</td>\n",
       "      <td>0.0</td>\n",
       "      <td>0</td>\n",
       "      <td>0.0</td>\n",
       "      <td>2</td>\n",
       "      <td>2.666667</td>\n",
       "      <td>0.05</td>\n",
       "      <td>0.14</td>\n",
       "      <td>0.0</td>\n",
       "      <td>0.0</td>\n",
       "      <td>Feb</td>\n",
       "      <td>3</td>\n",
       "      <td>2</td>\n",
       "      <td>2</td>\n",
       "      <td>4</td>\n",
       "      <td>Returning_Visitor</td>\n",
       "      <td>0</td>\n",
       "      <td>0</td>\n",
       "      <td>1</td>\n",
       "    </tr>\n",
       "    <tr>\n",
       "      <th>4</th>\n",
       "      <td>0</td>\n",
       "      <td>0.0</td>\n",
       "      <td>0</td>\n",
       "      <td>0.0</td>\n",
       "      <td>10</td>\n",
       "      <td>627.500000</td>\n",
       "      <td>0.02</td>\n",
       "      <td>0.05</td>\n",
       "      <td>0.0</td>\n",
       "      <td>0.0</td>\n",
       "      <td>Feb</td>\n",
       "      <td>3</td>\n",
       "      <td>3</td>\n",
       "      <td>1</td>\n",
       "      <td>4</td>\n",
       "      <td>Returning_Visitor</td>\n",
       "      <td>1</td>\n",
       "      <td>0</td>\n",
       "      <td>1</td>\n",
       "    </tr>\n",
       "  </tbody>\n",
       "</table>\n",
       "</div>"
      ],
      "text/plain": [
       "   Administrative  Administrative_Duration  Informational  \\\n",
       "0               0                      0.0              0   \n",
       "1               0                      0.0              0   \n",
       "2               0                      0.0              0   \n",
       "3               0                      0.0              0   \n",
       "4               0                      0.0              0   \n",
       "\n",
       "   Informational_Duration  ProductRelated  ProductRelated_Duration  \\\n",
       "0                     0.0               1                 0.000000   \n",
       "1                     0.0               2                64.000000   \n",
       "2                     0.0               1                 0.000000   \n",
       "3                     0.0               2                 2.666667   \n",
       "4                     0.0              10               627.500000   \n",
       "\n",
       "   BounceRates  ExitRates  PageValues  SpecialDay Month  OperatingSystems  \\\n",
       "0         0.20       0.20         0.0         0.0   Feb                 1   \n",
       "1         0.00       0.10         0.0         0.0   Feb                 2   \n",
       "2         0.20       0.20         0.0         0.0   Feb                 4   \n",
       "3         0.05       0.14         0.0         0.0   Feb                 3   \n",
       "4         0.02       0.05         0.0         0.0   Feb                 3   \n",
       "\n",
       "   Browser  Region  TrafficType        VisitorType  Weekend  Revenue  \\\n",
       "0        1       1            1  Returning_Visitor        0        0   \n",
       "1        2       1            2  Returning_Visitor        0        0   \n",
       "2        1       9            3  Returning_Visitor        0        0   \n",
       "3        2       2            4  Returning_Visitor        0        0   \n",
       "4        3       1            4  Returning_Visitor        1        0   \n",
       "\n",
       "   Returning_Visitor  \n",
       "0                  1  \n",
       "1                  1  \n",
       "2                  1  \n",
       "3                  1  \n",
       "4                  1  "
      ]
     },
     "execution_count": 61,
     "metadata": {},
     "output_type": "execute_result"
    }
   ],
   "source": [
    "df.head()"
   ]
  },
  {
   "cell_type": "markdown",
   "id": "3bf1d9c5-ffe5-45de-97bb-6c91f1c2e659",
   "metadata": {},
   "source": [
    "Drop VisitorType column"
   ]
  },
  {
   "cell_type": "code",
   "execution_count": 62,
   "id": "44f5f6ee-aebf-4e40-b1e5-faf9037c6187",
   "metadata": {},
   "outputs": [],
   "source": [
    "df = df.drop(columns = ['VisitorType'])"
   ]
  },
  {
   "cell_type": "code",
   "execution_count": 63,
   "id": "e6ee575e-d34c-4bc5-9e6f-d06904bb27a9",
   "metadata": {},
   "outputs": [
    {
     "data": {
      "text/html": [
       "<div>\n",
       "<style scoped>\n",
       "    .dataframe tbody tr th:only-of-type {\n",
       "        vertical-align: middle;\n",
       "    }\n",
       "\n",
       "    .dataframe tbody tr th {\n",
       "        vertical-align: top;\n",
       "    }\n",
       "\n",
       "    .dataframe thead th {\n",
       "        text-align: right;\n",
       "    }\n",
       "</style>\n",
       "<table border=\"1\" class=\"dataframe\">\n",
       "  <thead>\n",
       "    <tr style=\"text-align: right;\">\n",
       "      <th></th>\n",
       "      <th>Administrative</th>\n",
       "      <th>Administrative_Duration</th>\n",
       "      <th>Informational</th>\n",
       "      <th>Informational_Duration</th>\n",
       "      <th>ProductRelated</th>\n",
       "      <th>ProductRelated_Duration</th>\n",
       "      <th>BounceRates</th>\n",
       "      <th>ExitRates</th>\n",
       "      <th>PageValues</th>\n",
       "      <th>SpecialDay</th>\n",
       "      <th>Month</th>\n",
       "      <th>OperatingSystems</th>\n",
       "      <th>Browser</th>\n",
       "      <th>Region</th>\n",
       "      <th>TrafficType</th>\n",
       "      <th>Weekend</th>\n",
       "      <th>Revenue</th>\n",
       "      <th>Returning_Visitor</th>\n",
       "    </tr>\n",
       "  </thead>\n",
       "  <tbody>\n",
       "    <tr>\n",
       "      <th>0</th>\n",
       "      <td>0</td>\n",
       "      <td>0.0</td>\n",
       "      <td>0</td>\n",
       "      <td>0.0</td>\n",
       "      <td>1</td>\n",
       "      <td>0.000000</td>\n",
       "      <td>0.20</td>\n",
       "      <td>0.20</td>\n",
       "      <td>0.0</td>\n",
       "      <td>0.0</td>\n",
       "      <td>Feb</td>\n",
       "      <td>1</td>\n",
       "      <td>1</td>\n",
       "      <td>1</td>\n",
       "      <td>1</td>\n",
       "      <td>0</td>\n",
       "      <td>0</td>\n",
       "      <td>1</td>\n",
       "    </tr>\n",
       "    <tr>\n",
       "      <th>1</th>\n",
       "      <td>0</td>\n",
       "      <td>0.0</td>\n",
       "      <td>0</td>\n",
       "      <td>0.0</td>\n",
       "      <td>2</td>\n",
       "      <td>64.000000</td>\n",
       "      <td>0.00</td>\n",
       "      <td>0.10</td>\n",
       "      <td>0.0</td>\n",
       "      <td>0.0</td>\n",
       "      <td>Feb</td>\n",
       "      <td>2</td>\n",
       "      <td>2</td>\n",
       "      <td>1</td>\n",
       "      <td>2</td>\n",
       "      <td>0</td>\n",
       "      <td>0</td>\n",
       "      <td>1</td>\n",
       "    </tr>\n",
       "    <tr>\n",
       "      <th>2</th>\n",
       "      <td>0</td>\n",
       "      <td>0.0</td>\n",
       "      <td>0</td>\n",
       "      <td>0.0</td>\n",
       "      <td>1</td>\n",
       "      <td>0.000000</td>\n",
       "      <td>0.20</td>\n",
       "      <td>0.20</td>\n",
       "      <td>0.0</td>\n",
       "      <td>0.0</td>\n",
       "      <td>Feb</td>\n",
       "      <td>4</td>\n",
       "      <td>1</td>\n",
       "      <td>9</td>\n",
       "      <td>3</td>\n",
       "      <td>0</td>\n",
       "      <td>0</td>\n",
       "      <td>1</td>\n",
       "    </tr>\n",
       "    <tr>\n",
       "      <th>3</th>\n",
       "      <td>0</td>\n",
       "      <td>0.0</td>\n",
       "      <td>0</td>\n",
       "      <td>0.0</td>\n",
       "      <td>2</td>\n",
       "      <td>2.666667</td>\n",
       "      <td>0.05</td>\n",
       "      <td>0.14</td>\n",
       "      <td>0.0</td>\n",
       "      <td>0.0</td>\n",
       "      <td>Feb</td>\n",
       "      <td>3</td>\n",
       "      <td>2</td>\n",
       "      <td>2</td>\n",
       "      <td>4</td>\n",
       "      <td>0</td>\n",
       "      <td>0</td>\n",
       "      <td>1</td>\n",
       "    </tr>\n",
       "    <tr>\n",
       "      <th>4</th>\n",
       "      <td>0</td>\n",
       "      <td>0.0</td>\n",
       "      <td>0</td>\n",
       "      <td>0.0</td>\n",
       "      <td>10</td>\n",
       "      <td>627.500000</td>\n",
       "      <td>0.02</td>\n",
       "      <td>0.05</td>\n",
       "      <td>0.0</td>\n",
       "      <td>0.0</td>\n",
       "      <td>Feb</td>\n",
       "      <td>3</td>\n",
       "      <td>3</td>\n",
       "      <td>1</td>\n",
       "      <td>4</td>\n",
       "      <td>1</td>\n",
       "      <td>0</td>\n",
       "      <td>1</td>\n",
       "    </tr>\n",
       "  </tbody>\n",
       "</table>\n",
       "</div>"
      ],
      "text/plain": [
       "   Administrative  Administrative_Duration  Informational  \\\n",
       "0               0                      0.0              0   \n",
       "1               0                      0.0              0   \n",
       "2               0                      0.0              0   \n",
       "3               0                      0.0              0   \n",
       "4               0                      0.0              0   \n",
       "\n",
       "   Informational_Duration  ProductRelated  ProductRelated_Duration  \\\n",
       "0                     0.0               1                 0.000000   \n",
       "1                     0.0               2                64.000000   \n",
       "2                     0.0               1                 0.000000   \n",
       "3                     0.0               2                 2.666667   \n",
       "4                     0.0              10               627.500000   \n",
       "\n",
       "   BounceRates  ExitRates  PageValues  SpecialDay Month  OperatingSystems  \\\n",
       "0         0.20       0.20         0.0         0.0   Feb                 1   \n",
       "1         0.00       0.10         0.0         0.0   Feb                 2   \n",
       "2         0.20       0.20         0.0         0.0   Feb                 4   \n",
       "3         0.05       0.14         0.0         0.0   Feb                 3   \n",
       "4         0.02       0.05         0.0         0.0   Feb                 3   \n",
       "\n",
       "   Browser  Region  TrafficType  Weekend  Revenue  Returning_Visitor  \n",
       "0        1       1            1        0        0                  1  \n",
       "1        2       1            2        0        0                  1  \n",
       "2        1       9            3        0        0                  1  \n",
       "3        2       2            4        0        0                  1  \n",
       "4        3       1            4        1        0                  1  "
      ]
     },
     "execution_count": 63,
     "metadata": {},
     "output_type": "execute_result"
    }
   ],
   "source": [
    "df.head()"
   ]
  },
  {
   "cell_type": "markdown",
   "id": "f71e10dd-4f00-4220-931b-9fbf686598c8",
   "metadata": {},
   "source": [
    "Checking all columns data type"
   ]
  },
  {
   "cell_type": "code",
   "execution_count": 64,
   "id": "bc142be4-64da-4525-a08a-cd7d236df9d2",
   "metadata": {},
   "outputs": [
    {
     "data": {
      "text/plain": [
       "Administrative               int64\n",
       "Administrative_Duration    float64\n",
       "Informational                int64\n",
       "Informational_Duration     float64\n",
       "ProductRelated               int64\n",
       "ProductRelated_Duration    float64\n",
       "BounceRates                float64\n",
       "ExitRates                  float64\n",
       "PageValues                 float64\n",
       "SpecialDay                 float64\n",
       "Month                       object\n",
       "OperatingSystems             int64\n",
       "Browser                      int64\n",
       "Region                       int64\n",
       "TrafficType                  int64\n",
       "Weekend                      int64\n",
       "Revenue                      int64\n",
       "Returning_Visitor            int32\n",
       "dtype: object"
      ]
     },
     "execution_count": 64,
     "metadata": {},
     "output_type": "execute_result"
    }
   ],
   "source": [
    "df.dtypes"
   ]
  },
  {
   "cell_type": "markdown",
   "id": "a88344cb-6c4a-4f2b-a448-edbf997c5f1a",
   "metadata": {},
   "source": [
    "Checking unique values in Month column"
   ]
  },
  {
   "cell_type": "code",
   "execution_count": 65,
   "id": "fe037707-c628-448e-833a-51c704e86e2f",
   "metadata": {},
   "outputs": [
    {
     "data": {
      "text/plain": [
       "array(['Feb', 'Mar', 'May', 'Oct', 'June', 'Jul', 'Aug', 'Nov', 'Sep',\n",
       "       'Dec'], dtype=object)"
      ]
     },
     "execution_count": 65,
     "metadata": {},
     "output_type": "execute_result"
    }
   ],
   "source": [
    "df['Month'].unique()"
   ]
  },
  {
   "cell_type": "markdown",
   "id": "b4a13ec4-e89b-4961-aff8-dedc1cf63692",
   "metadata": {},
   "source": [
    "Applying Ordinal Encoding on Month column"
   ]
  },
  {
   "cell_type": "code",
   "execution_count": 66,
   "id": "31dca66e-c99b-4a3e-baf3-31bb0e1ef839",
   "metadata": {},
   "outputs": [],
   "source": [
    "ordinal_encoder = OrdinalEncoder()\n",
    "df['Month'] = ordinal_encoder.fit_transform(df[['Month']])"
   ]
  },
  {
   "cell_type": "code",
   "execution_count": 67,
   "id": "2d72b6c5-bb41-4898-8a68-62f37fcf4f28",
   "metadata": {},
   "outputs": [
    {
     "data": {
      "text/plain": [
       "array([2., 5., 6., 8., 4., 3., 0., 7., 9., 1.])"
      ]
     },
     "execution_count": 67,
     "metadata": {},
     "output_type": "execute_result"
    }
   ],
   "source": [
    "df['Month'].unique()"
   ]
  },
  {
   "cell_type": "markdown",
   "id": "aa6105d2-5412-433d-8cb2-16b76e0ea3a9",
   "metadata": {},
   "source": [
    "Let’s understand the Revenue column"
   ]
  },
  {
   "cell_type": "code",
   "execution_count": 68,
   "id": "0edbf03f-cbac-47f5-b556-72d05d640bf5",
   "metadata": {},
   "outputs": [
    {
     "data": {
      "text/plain": [
       "Revenue\n",
       "0    10422\n",
       "1     1908\n",
       "Name: count, dtype: int64"
      ]
     },
     "execution_count": 68,
     "metadata": {},
     "output_type": "execute_result"
    }
   ],
   "source": [
    "df.Revenue.value_counts()"
   ]
  },
  {
   "cell_type": "markdown",
   "id": "f7fd79ac-277e-4c38-9c49-dbc98dd038e2",
   "metadata": {},
   "source": [
    "Access required columns"
   ]
  },
  {
   "cell_type": "code",
   "execution_count": 69,
   "id": "12141178-f52e-45db-85ee-f97942e6d03e",
   "metadata": {},
   "outputs": [
    {
     "name": "stdout",
     "output_type": "stream",
     "text": [
      "Index(['Administrative_Duration', 'Informational', 'Informational_Duration',\n",
      "       'ProductRelated', 'ProductRelated_Duration', 'BounceRates', 'ExitRates',\n",
      "       'PageValues', 'SpecialDay', 'Month', 'OperatingSystems', 'Browser',\n",
      "       'Region', 'TrafficType', 'Weekend', 'Revenue', 'Returning_Visitor'],\n",
      "      dtype='object')\n"
     ]
    }
   ],
   "source": [
    "result = df.columns[1:]\n",
    "print(result)"
   ]
  },
  {
   "cell_type": "markdown",
   "id": "500a2fcf-a78e-4ff6-8bee-805e41b56260",
   "metadata": {},
   "source": [
    "Create a DataFrame with required columns"
   ]
  },
  {
   "cell_type": "code",
   "execution_count": 70,
   "id": "769ef6cf-1cd0-4291-bc5a-b294fe15ebf8",
   "metadata": {},
   "outputs": [
    {
     "name": "stdout",
     "output_type": "stream",
     "text": [
      "       Administrative_Duration  Informational  Informational_Duration  \\\n",
      "0                          0.0              0                     0.0   \n",
      "1                          0.0              0                     0.0   \n",
      "2                          0.0              0                     0.0   \n",
      "3                          0.0              0                     0.0   \n",
      "4                          0.0              0                     0.0   \n",
      "...                        ...            ...                     ...   \n",
      "12325                    145.0              0                     0.0   \n",
      "12326                      0.0              0                     0.0   \n",
      "12327                      0.0              0                     0.0   \n",
      "12328                     75.0              0                     0.0   \n",
      "12329                      0.0              0                     0.0   \n",
      "\n",
      "       ProductRelated  ProductRelated_Duration  BounceRates  ExitRates  \\\n",
      "0                   1                 0.000000     0.200000   0.200000   \n",
      "1                   2                64.000000     0.000000   0.100000   \n",
      "2                   1                 0.000000     0.200000   0.200000   \n",
      "3                   2                 2.666667     0.050000   0.140000   \n",
      "4                  10               627.500000     0.020000   0.050000   \n",
      "...               ...                      ...          ...        ...   \n",
      "12325              53              1783.791667     0.007143   0.029031   \n",
      "12326               5               465.750000     0.000000   0.021333   \n",
      "12327               6               184.250000     0.083333   0.086667   \n",
      "12328              15               346.000000     0.000000   0.021053   \n",
      "12329               3                21.250000     0.000000   0.066667   \n",
      "\n",
      "       PageValues  SpecialDay  Month  OperatingSystems  Browser  Region  \\\n",
      "0        0.000000         0.0    2.0                 1        1       1   \n",
      "1        0.000000         0.0    2.0                 2        2       1   \n",
      "2        0.000000         0.0    2.0                 4        1       9   \n",
      "3        0.000000         0.0    2.0                 3        2       2   \n",
      "4        0.000000         0.0    2.0                 3        3       1   \n",
      "...           ...         ...    ...               ...      ...     ...   \n",
      "12325   12.241717         0.0    1.0                 4        6       1   \n",
      "12326    0.000000         0.0    7.0                 3        2       1   \n",
      "12327    0.000000         0.0    7.0                 3        2       1   \n",
      "12328    0.000000         0.0    7.0                 2        2       3   \n",
      "12329    0.000000         0.0    7.0                 3        2       1   \n",
      "\n",
      "       TrafficType  Weekend  Revenue  Returning_Visitor  \n",
      "0                1        0        0                  1  \n",
      "1                2        0        0                  1  \n",
      "2                3        0        0                  1  \n",
      "3                4        0        0                  1  \n",
      "4                4        1        0                  1  \n",
      "...            ...      ...      ...                ...  \n",
      "12325            1        1        0                  1  \n",
      "12326            8        1        0                  1  \n",
      "12327           13        1        0                  1  \n",
      "12328           11        0        0                  1  \n",
      "12329            2        1        0                  0  \n",
      "\n",
      "[12330 rows x 17 columns]\n"
     ]
    }
   ],
   "source": [
    "result = df[df.columns[1:]]\n",
    "print(result)"
   ]
  },
  {
   "cell_type": "markdown",
   "id": "4f71f3f9-aebb-4893-842c-9260b8cc2755",
   "metadata": {},
   "source": [
    "Correlation"
   ]
  },
  {
   "cell_type": "code",
   "execution_count": 71,
   "id": "3e069831-67cd-451a-9110-e68db81b6e33",
   "metadata": {},
   "outputs": [
    {
     "name": "stdout",
     "output_type": "stream",
     "text": [
      "                         Administrative_Duration  Informational  \\\n",
      "Administrative_Duration                 1.000000       0.302710   \n",
      "Informational                           0.302710       1.000000   \n",
      "Informational_Duration                  0.238031       0.618955   \n",
      "ProductRelated                          0.289087       0.374164   \n",
      "ProductRelated_Duration                 0.355422       0.387505   \n",
      "BounceRates                            -0.144170      -0.116114   \n",
      "ExitRates                              -0.205798      -0.163666   \n",
      "PageValues                              0.067608       0.048632   \n",
      "SpecialDay                             -0.073304      -0.048219   \n",
      "Month                                   0.029061       0.019743   \n",
      "OperatingSystems                       -0.007343      -0.009527   \n",
      "Browser                                -0.015392      -0.038235   \n",
      "Region                                 -0.005561      -0.029169   \n",
      "TrafficType                            -0.014376      -0.034491   \n",
      "Weekend                                 0.014990       0.035785   \n",
      "Revenue                                 0.093587       0.095200   \n",
      "Returning_Visitor                      -0.022525       0.057399   \n",
      "\n",
      "                         Informational_Duration  ProductRelated  \\\n",
      "Administrative_Duration                0.238031        0.289087   \n",
      "Informational                          0.618955        0.374164   \n",
      "Informational_Duration                 1.000000        0.280046   \n",
      "ProductRelated                         0.280046        1.000000   \n",
      "ProductRelated_Duration                0.347364        0.860927   \n",
      "BounceRates                           -0.074067       -0.204578   \n",
      "ExitRates                             -0.105276       -0.292526   \n",
      "PageValues                             0.030861        0.056282   \n",
      "SpecialDay                            -0.030577       -0.023958   \n",
      "Month                                  0.005987        0.070299   \n",
      "OperatingSystems                      -0.009579        0.004290   \n",
      "Browser                               -0.019285       -0.013146   \n",
      "Region                                -0.027144       -0.038122   \n",
      "TrafficType                           -0.024675       -0.043064   \n",
      "Weekend                                0.024078        0.016092   \n",
      "Revenue                                0.070345        0.158538   \n",
      "Returning_Visitor                      0.045501        0.128738   \n",
      "\n",
      "                         ProductRelated_Duration  BounceRates  ExitRates  \\\n",
      "Administrative_Duration                 0.355422    -0.144170  -0.205798   \n",
      "Informational                           0.387505    -0.116114  -0.163666   \n",
      "Informational_Duration                  0.347364    -0.074067  -0.105276   \n",
      "ProductRelated                          0.860927    -0.204578  -0.292526   \n",
      "ProductRelated_Duration                 1.000000    -0.184541  -0.251984   \n",
      "BounceRates                            -0.184541     1.000000   0.913004   \n",
      "ExitRates                              -0.251984     0.913004   1.000000   \n",
      "PageValues                              0.052823    -0.119386  -0.174498   \n",
      "SpecialDay                             -0.036380     0.072702   0.102242   \n",
      "Month                                   0.061186    -0.023763  -0.039049   \n",
      "OperatingSystems                        0.002976     0.023823   0.014567   \n",
      "Browser                                -0.007380    -0.015772  -0.004442   \n",
      "Region                                 -0.033091    -0.006485  -0.008907   \n",
      "TrafficType                            -0.036377     0.078286   0.078616   \n",
      "Weekend                                 0.007311    -0.046514  -0.062587   \n",
      "Revenue                                 0.152373    -0.150673  -0.207071   \n",
      "Returning_Visitor                       0.120489     0.129908   0.171987   \n",
      "\n",
      "                         PageValues  SpecialDay     Month  OperatingSystems  \\\n",
      "Administrative_Duration    0.067608   -0.073304  0.029061         -0.007343   \n",
      "Informational              0.048632   -0.048219  0.019743         -0.009527   \n",
      "Informational_Duration     0.030861   -0.030577  0.005987         -0.009579   \n",
      "ProductRelated             0.056282   -0.023958  0.070299          0.004290   \n",
      "ProductRelated_Duration    0.052823   -0.036380  0.061186          0.002976   \n",
      "BounceRates               -0.119386    0.072702 -0.023763          0.023823   \n",
      "ExitRates                 -0.174498    0.102242 -0.039049          0.014567   \n",
      "PageValues                 1.000000   -0.063541  0.021780          0.018508   \n",
      "SpecialDay                -0.063541    1.000000  0.079341          0.012652   \n",
      "Month                      0.021780    0.079341  1.000000         -0.029580   \n",
      "OperatingSystems           0.018508    0.012652 -0.029580          1.000000   \n",
      "Browser                    0.045592    0.003499 -0.045913          0.223013   \n",
      "Region                     0.011315   -0.016098 -0.032530          0.076775   \n",
      "TrafficType                0.012532    0.052301  0.041839          0.189154   \n",
      "Weekend                    0.012002   -0.016767  0.029132          0.000284   \n",
      "Revenue                    0.492569   -0.082305  0.080150         -0.014668   \n",
      "Returning_Visitor         -0.115825    0.087123  0.036689         -0.038345   \n",
      "\n",
      "                          Browser    Region  TrafficType   Weekend   Revenue  \\\n",
      "Administrative_Duration -0.015392 -0.005561    -0.014376  0.014990  0.093587   \n",
      "Informational           -0.038235 -0.029169    -0.034491  0.035785  0.095200   \n",
      "Informational_Duration  -0.019285 -0.027144    -0.024675  0.024078  0.070345   \n",
      "ProductRelated          -0.013146 -0.038122    -0.043064  0.016092  0.158538   \n",
      "ProductRelated_Duration -0.007380 -0.033091    -0.036377  0.007311  0.152373   \n",
      "BounceRates             -0.015772 -0.006485     0.078286 -0.046514 -0.150673   \n",
      "ExitRates               -0.004442 -0.008907     0.078616 -0.062587 -0.207071   \n",
      "PageValues               0.045592  0.011315     0.012532  0.012002  0.492569   \n",
      "SpecialDay               0.003499 -0.016098     0.052301 -0.016767 -0.082305   \n",
      "Month                   -0.045913 -0.032530     0.041839  0.029132  0.080150   \n",
      "OperatingSystems         0.223013  0.076775     0.189154  0.000284 -0.014668   \n",
      "Browser                  1.000000  0.097393     0.111938 -0.040261  0.023984   \n",
      "Region                   0.097393  1.000000     0.047520 -0.000691 -0.011595   \n",
      "TrafficType              0.111938  0.047520     1.000000 -0.002221 -0.005113   \n",
      "Weekend                 -0.040261 -0.000691    -0.002221  1.000000  0.029295   \n",
      "Revenue                  0.023984 -0.011595    -0.005113  0.029295  1.000000   \n",
      "Returning_Visitor       -0.058836 -0.050829    -0.026219 -0.039444 -0.103843   \n",
      "\n",
      "                         Returning_Visitor  \n",
      "Administrative_Duration          -0.022525  \n",
      "Informational                     0.057399  \n",
      "Informational_Duration            0.045501  \n",
      "ProductRelated                    0.128738  \n",
      "ProductRelated_Duration           0.120489  \n",
      "BounceRates                       0.129908  \n",
      "ExitRates                         0.171987  \n",
      "PageValues                       -0.115825  \n",
      "SpecialDay                        0.087123  \n",
      "Month                             0.036689  \n",
      "OperatingSystems                 -0.038345  \n",
      "Browser                          -0.058836  \n",
      "Region                           -0.050829  \n",
      "TrafficType                      -0.026219  \n",
      "Weekend                          -0.039444  \n",
      "Revenue                          -0.103843  \n",
      "Returning_Visitor                 1.000000  \n"
     ]
    }
   ],
   "source": [
    "result = df[df.columns[1:]].corr()\n",
    "print(result)"
   ]
  },
  {
   "cell_type": "code",
   "execution_count": 72,
   "id": "c758b1bf-f919-4c3b-8df7-5af51f85e23a",
   "metadata": {},
   "outputs": [
    {
     "name": "stdout",
     "output_type": "stream",
     "text": [
      "Administrative_Duration    0.093587\n",
      "Informational              0.095200\n",
      "Informational_Duration     0.070345\n",
      "ProductRelated             0.158538\n",
      "ProductRelated_Duration    0.152373\n",
      "BounceRates               -0.150673\n",
      "ExitRates                 -0.207071\n",
      "PageValues                 0.492569\n",
      "SpecialDay                -0.082305\n",
      "Month                      0.080150\n",
      "OperatingSystems          -0.014668\n",
      "Browser                    0.023984\n",
      "Region                    -0.011595\n",
      "TrafficType               -0.005113\n",
      "Weekend                    0.029295\n",
      "Revenue                    1.000000\n",
      "Returning_Visitor         -0.103843\n",
      "Name: Revenue, dtype: float64\n"
     ]
    }
   ],
   "source": [
    "result = df[df.columns[1:]].corr()['Revenue']\n",
    "print(result)"
   ]
  },
  {
   "cell_type": "code",
   "execution_count": 73,
   "id": "7255450e-5965-492d-b8ea-5eb91e0c6c37",
   "metadata": {},
   "outputs": [
    {
     "name": "stdout",
     "output_type": "stream",
     "text": [
      "Revenue                    1.000000\n",
      "PageValues                 0.492569\n",
      "ProductRelated             0.158538\n",
      "ProductRelated_Duration    0.152373\n",
      "Informational              0.095200\n",
      "Administrative_Duration    0.093587\n",
      "Month                      0.080150\n",
      "Informational_Duration     0.070345\n",
      "Weekend                    0.029295\n",
      "Browser                    0.023984\n",
      "TrafficType               -0.005113\n",
      "Region                    -0.011595\n",
      "OperatingSystems          -0.014668\n",
      "SpecialDay                -0.082305\n",
      "Returning_Visitor         -0.103843\n",
      "BounceRates               -0.150673\n",
      "ExitRates                 -0.207071\n",
      "Name: Revenue, dtype: float64\n"
     ]
    }
   ],
   "source": [
    "result = df[df.columns[1:]].corr()['Revenue']\n",
    "result1 = result.sort_values(ascending=False)\n",
    "print(result1)"
   ]
  },
  {
   "cell_type": "markdown",
   "id": "b4d2eb9e-37a4-4f8a-830d-168ab2e61ff0",
   "metadata": {},
   "source": [
    "Create features and target"
   ]
  },
  {
   "cell_type": "code",
   "execution_count": 79,
   "id": "c3330f56-25f3-4c02-90c3-e853a9a1e8d7",
   "metadata": {},
   "outputs": [
    {
     "name": "stdout",
     "output_type": "stream",
     "text": [
      "Features and target created\n"
     ]
    }
   ],
   "source": [
    "X = df.drop(['Revenue'], axis=1)\n",
    "y = df['Revenue']\n",
    "print(\"Features and target created\")"
   ]
  },
  {
   "cell_type": "markdown",
   "id": "8a44a179-f0ca-4a67-ba7c-617a26cae15d",
   "metadata": {},
   "source": [
    "Prepairing Train and Test Dataset"
   ]
  },
  {
   "cell_type": "code",
   "execution_count": 80,
   "id": "adf863b4-856e-45bc-9ce9-f5e2dfa4aae3",
   "metadata": {},
   "outputs": [
    {
     "name": "stdout",
     "output_type": "stream",
     "text": [
      "Created train and test datasets\n"
     ]
    }
   ],
   "source": [
    "X_train, X_test, y_train, y_test = train_test_split(X, y, test_size=0.3, random_state = 0)\n",
    "\n",
    "print(\"Created train and test datasets\")"
   ]
  },
  {
   "cell_type": "markdown",
   "id": "0dfb5f2e-5828-4249-9ffd-9a4c49c676b6",
   "metadata": {},
   "source": [
    " create model pipeline"
   ]
  },
  {
   "cell_type": "code",
   "execution_count": 84,
   "id": "b653260a-bf4f-4cc7-a78f-0cbc954b6776",
   "metadata": {},
   "outputs": [],
   "source": [
    "def model_pipeline(X, model):  \n",
    "    n_c = X.select_dtypes(exclude=['object']).columns.values.tolist()\n",
    "    c_c = X.select_dtypes(include=['object']).columns.values.tolist()\n",
    "\n",
    "    numeric_columns = n_c\n",
    "    categorical_columns = c_c\n",
    "\n",
    "    numeric_pipeline = SimpleImputer(strategy = 'constant')\n",
    "\n",
    "    categorical_pipeline = OneHotEncoder(handle_unknown = 'ignore')\n",
    "\n",
    "    a = ('numeric', numeric_pipeline, numeric_columns)\n",
    "    b = ('categorical', categorical_pipeline, categorical_columns)\n",
    "\n",
    "    preprocessor = ColumnTransformer(\n",
    "\n",
    "    transformers = [a, b], \n",
    "    remainder = 'passthrough'\n",
    "\n",
    "    )\n",
    "\n",
    "    c = ('preprocessor', preprocessor)\n",
    "    d = ('smote', SMOTE(random_state = 1))\n",
    "    e = ('scaler', MinMaxScaler())\n",
    "    f = ('feature_selection', SelectKBest(score_func = chi2, k = 6))\n",
    "    g = ('model', model)\n",
    "\n",
    "    bundled_pipeline = imbpipeline(steps = [c, d, e, f, g])\n",
    "\n",
    "    return bundled_pipeline"
   ]
  },
  {
   "cell_type": "markdown",
   "id": "949e1dcd-a52c-44e8-993c-3fcaedd7d8b3",
   "metadata": {},
   "source": [
    "Model Selection"
   ]
  },
  {
   "cell_type": "code",
   "execution_count": 85,
   "id": "d1286fa1-7ce7-49d1-b601-bf740e420029",
   "metadata": {},
   "outputs": [],
   "source": [
    "def select_model(X, y, pipeline=None):\n",
    "\n",
    "    classifiers = {}\n",
    "    \n",
    "\n",
    "    c_d4 = {\"RandomForestClassifier\": RandomForestClassifier()}\n",
    "    classifiers.update(c_d4)\n",
    "\n",
    "    c_d5 = {\"DecisionTreeClassifier\": DecisionTreeClassifier()}\n",
    "    classifiers.update(c_d5)\n",
    "\n",
    "    c_d9 = {\"KNeighborsClassifier\": KNeighborsClassifier()}\n",
    "    classifiers.update(c_d9)\n",
    "\n",
    "    c_d10 = {\"RidgeClassifier\": RidgeClassifier()}\n",
    "    classifiers.update(c_d10)\n",
    "\n",
    "    c_d13 = {\"BernoulliNB\": BernoulliNB()}\n",
    "    classifiers.update(c_d13)\n",
    "\n",
    "    c_d14 = {\"SVC\": SVC()}\n",
    "    classifiers.update(c_d14)\n",
    "   \n",
    "    cols = ['model', 'run_time', 'roc_auc']\n",
    "    df_models = pd.DataFrame(columns = cols)\n",
    "\n",
    "    for key in classifiers:\n",
    "        \n",
    "        start_time = time.time()\n",
    "        \n",
    "        print()\n",
    "        print(\"Step 12: model_pipeline run successfully on\", key)\n",
    "\n",
    "        pipeline = model_pipeline(X_train, classifiers[key])\n",
    "        \n",
    "        cv = cross_val_score(pipeline, X, y, cv=10, scoring='roc_auc')\n",
    "\n",
    "        row = {'model': key,\n",
    "               'run_time': format(round((time.time() - start_time)/60,2)),\n",
    "               'roc_auc': cv.mean(),\n",
    "        }\n",
    "\n",
    "        df_models = pd.concat([df_models, pd.DataFrame([row])], ignore_index=True)\n",
    "        \n",
    "    df_models = df_models.sort_values(by='roc_auc', ascending=False)\n",
    "\t\n",
    "    return df_models"
   ]
  },
  {
   "cell_type": "markdown",
   "id": "3c0a6524-d24d-45fd-8966-071a02a78ec0",
   "metadata": {},
   "source": [
    "Access Model select_model function"
   ]
  },
  {
   "cell_type": "code",
   "execution_count": 86,
   "id": "61e6864a-cfd7-4ce2-a482-caa07b92ed16",
   "metadata": {},
   "outputs": [
    {
     "name": "stdout",
     "output_type": "stream",
     "text": [
      "\n",
      "Step 12: model_pipeline run successfully on RandomForestClassifier\n",
      "\n",
      "Step 12: model_pipeline run successfully on DecisionTreeClassifier\n",
      "\n",
      "Step 12: model_pipeline run successfully on KNeighborsClassifier\n",
      "\n",
      "Step 12: model_pipeline run successfully on RidgeClassifier\n",
      "\n",
      "Step 12: model_pipeline run successfully on BernoulliNB\n",
      "\n",
      "Step 12: model_pipeline run successfully on SVC\n"
     ]
    }
   ],
   "source": [
    "models = select_model(X_train, y_train)"
   ]
  },
  {
   "cell_type": "markdown",
   "id": "4653f4bc-22da-44b3-b2c9-20cee4ed9b28",
   "metadata": {},
   "source": [
    "Lets see total model with score"
   ]
  },
  {
   "cell_type": "code",
   "execution_count": 88,
   "id": "90ec97ac-7b64-4cdf-9222-5bb154c94640",
   "metadata": {},
   "outputs": [
    {
     "name": "stdout",
     "output_type": "stream",
     "text": [
      "                    model run_time   roc_auc\n",
      "0  RandomForestClassifier     0.88  0.886458\n",
      "5                     SVC     0.89  0.885963\n",
      "4             BernoulliNB     0.01  0.857851\n",
      "3         RidgeClassifier     0.01  0.855441\n",
      "2    KNeighborsClassifier     0.02  0.840505\n",
      "1  DecisionTreeClassifier     0.03  0.733111\n"
     ]
    }
   ],
   "source": [
    "print(models)"
   ]
  },
  {
   "cell_type": "markdown",
   "id": "2f3e1741-600b-4fd9-866e-cac971977371",
   "metadata": {},
   "source": [
    "Accessing best model and training"
   ]
  },
  {
   "cell_type": "code",
   "execution_count": 89,
   "id": "14948a11-7ad6-4d53-bc7d-e406e5cdb2f8",
   "metadata": {},
   "outputs": [
    {
     "data": {
      "text/html": [
       "<style>#sk-container-id-1 {color: black;}#sk-container-id-1 pre{padding: 0;}#sk-container-id-1 div.sk-toggleable {background-color: white;}#sk-container-id-1 label.sk-toggleable__label {cursor: pointer;display: block;width: 100%;margin-bottom: 0;padding: 0.3em;box-sizing: border-box;text-align: center;}#sk-container-id-1 label.sk-toggleable__label-arrow:before {content: \"▸\";float: left;margin-right: 0.25em;color: #696969;}#sk-container-id-1 label.sk-toggleable__label-arrow:hover:before {color: black;}#sk-container-id-1 div.sk-estimator:hover label.sk-toggleable__label-arrow:before {color: black;}#sk-container-id-1 div.sk-toggleable__content {max-height: 0;max-width: 0;overflow: hidden;text-align: left;background-color: #f0f8ff;}#sk-container-id-1 div.sk-toggleable__content pre {margin: 0.2em;color: black;border-radius: 0.25em;background-color: #f0f8ff;}#sk-container-id-1 input.sk-toggleable__control:checked~div.sk-toggleable__content {max-height: 200px;max-width: 100%;overflow: auto;}#sk-container-id-1 input.sk-toggleable__control:checked~label.sk-toggleable__label-arrow:before {content: \"▾\";}#sk-container-id-1 div.sk-estimator input.sk-toggleable__control:checked~label.sk-toggleable__label {background-color: #d4ebff;}#sk-container-id-1 div.sk-label input.sk-toggleable__control:checked~label.sk-toggleable__label {background-color: #d4ebff;}#sk-container-id-1 input.sk-hidden--visually {border: 0;clip: rect(1px 1px 1px 1px);clip: rect(1px, 1px, 1px, 1px);height: 1px;margin: -1px;overflow: hidden;padding: 0;position: absolute;width: 1px;}#sk-container-id-1 div.sk-estimator {font-family: monospace;background-color: #f0f8ff;border: 1px dotted black;border-radius: 0.25em;box-sizing: border-box;margin-bottom: 0.5em;}#sk-container-id-1 div.sk-estimator:hover {background-color: #d4ebff;}#sk-container-id-1 div.sk-parallel-item::after {content: \"\";width: 100%;border-bottom: 1px solid gray;flex-grow: 1;}#sk-container-id-1 div.sk-label:hover label.sk-toggleable__label {background-color: #d4ebff;}#sk-container-id-1 div.sk-serial::before {content: \"\";position: absolute;border-left: 1px solid gray;box-sizing: border-box;top: 0;bottom: 0;left: 50%;z-index: 0;}#sk-container-id-1 div.sk-serial {display: flex;flex-direction: column;align-items: center;background-color: white;padding-right: 0.2em;padding-left: 0.2em;position: relative;}#sk-container-id-1 div.sk-item {position: relative;z-index: 1;}#sk-container-id-1 div.sk-parallel {display: flex;align-items: stretch;justify-content: center;background-color: white;position: relative;}#sk-container-id-1 div.sk-item::before, #sk-container-id-1 div.sk-parallel-item::before {content: \"\";position: absolute;border-left: 1px solid gray;box-sizing: border-box;top: 0;bottom: 0;left: 50%;z-index: -1;}#sk-container-id-1 div.sk-parallel-item {display: flex;flex-direction: column;z-index: 1;position: relative;background-color: white;}#sk-container-id-1 div.sk-parallel-item:first-child::after {align-self: flex-end;width: 50%;}#sk-container-id-1 div.sk-parallel-item:last-child::after {align-self: flex-start;width: 50%;}#sk-container-id-1 div.sk-parallel-item:only-child::after {width: 0;}#sk-container-id-1 div.sk-dashed-wrapped {border: 1px dashed gray;margin: 0 0.4em 0.5em 0.4em;box-sizing: border-box;padding-bottom: 0.4em;background-color: white;}#sk-container-id-1 div.sk-label label {font-family: monospace;font-weight: bold;display: inline-block;line-height: 1.2em;}#sk-container-id-1 div.sk-label-container {text-align: center;}#sk-container-id-1 div.sk-container {/* jupyter's `normalize.less` sets `[hidden] { display: none; }` but bootstrap.min.css set `[hidden] { display: none !important; }` so we also need the `!important` here to be able to override the default hidden behavior on the sphinx rendered scikit-learn.org. See: https://github.com/scikit-learn/scikit-learn/issues/21755 */display: inline-block !important;position: relative;}#sk-container-id-1 div.sk-text-repr-fallback {display: none;}</style><div id=\"sk-container-id-1\" class=\"sk-top-container\"><div class=\"sk-text-repr-fallback\"><pre>Pipeline(steps=[(&#x27;preprocessor&#x27;,\n",
       "                 ColumnTransformer(remainder=&#x27;passthrough&#x27;,\n",
       "                                   transformers=[(&#x27;numeric&#x27;,\n",
       "                                                  SimpleImputer(strategy=&#x27;constant&#x27;),\n",
       "                                                  [&#x27;Administrative&#x27;,\n",
       "                                                   &#x27;Administrative_Duration&#x27;,\n",
       "                                                   &#x27;Informational&#x27;,\n",
       "                                                   &#x27;Informational_Duration&#x27;,\n",
       "                                                   &#x27;ProductRelated&#x27;,\n",
       "                                                   &#x27;ProductRelated_Duration&#x27;,\n",
       "                                                   &#x27;BounceRates&#x27;, &#x27;ExitRates&#x27;,\n",
       "                                                   &#x27;PageValues&#x27;, &#x27;SpecialDay&#x27;,\n",
       "                                                   &#x27;Month&#x27;, &#x27;OperatingSystems&#x27;,\n",
       "                                                   &#x27;Browser&#x27;, &#x27;Region&#x27;,\n",
       "                                                   &#x27;TrafficType&#x27;, &#x27;Weekend&#x27;,\n",
       "                                                   &#x27;Returning_Visitor&#x27;]),\n",
       "                                                 (&#x27;categorical&#x27;,\n",
       "                                                  OneHotEncoder(handle_unknown=&#x27;ignore&#x27;),\n",
       "                                                  [])])),\n",
       "                (&#x27;smote&#x27;, SMOTE(random_state=1)), (&#x27;scaler&#x27;, MinMaxScaler()),\n",
       "                (&#x27;feature_selection&#x27;,\n",
       "                 SelectKBest(k=6,\n",
       "                             score_func=&lt;function chi2 at 0x0000019819CD8AE0&gt;)),\n",
       "                (&#x27;model&#x27;, SVC())])</pre><b>In a Jupyter environment, please rerun this cell to show the HTML representation or trust the notebook. <br />On GitHub, the HTML representation is unable to render, please try loading this page with nbviewer.org.</b></div><div class=\"sk-container\" hidden><div class=\"sk-item sk-dashed-wrapped\"><div class=\"sk-label-container\"><div class=\"sk-label sk-toggleable\"><input class=\"sk-toggleable__control sk-hidden--visually\" id=\"sk-estimator-id-1\" type=\"checkbox\" ><label for=\"sk-estimator-id-1\" class=\"sk-toggleable__label sk-toggleable__label-arrow\">Pipeline</label><div class=\"sk-toggleable__content\"><pre>Pipeline(steps=[(&#x27;preprocessor&#x27;,\n",
       "                 ColumnTransformer(remainder=&#x27;passthrough&#x27;,\n",
       "                                   transformers=[(&#x27;numeric&#x27;,\n",
       "                                                  SimpleImputer(strategy=&#x27;constant&#x27;),\n",
       "                                                  [&#x27;Administrative&#x27;,\n",
       "                                                   &#x27;Administrative_Duration&#x27;,\n",
       "                                                   &#x27;Informational&#x27;,\n",
       "                                                   &#x27;Informational_Duration&#x27;,\n",
       "                                                   &#x27;ProductRelated&#x27;,\n",
       "                                                   &#x27;ProductRelated_Duration&#x27;,\n",
       "                                                   &#x27;BounceRates&#x27;, &#x27;ExitRates&#x27;,\n",
       "                                                   &#x27;PageValues&#x27;, &#x27;SpecialDay&#x27;,\n",
       "                                                   &#x27;Month&#x27;, &#x27;OperatingSystems&#x27;,\n",
       "                                                   &#x27;Browser&#x27;, &#x27;Region&#x27;,\n",
       "                                                   &#x27;TrafficType&#x27;, &#x27;Weekend&#x27;,\n",
       "                                                   &#x27;Returning_Visitor&#x27;]),\n",
       "                                                 (&#x27;categorical&#x27;,\n",
       "                                                  OneHotEncoder(handle_unknown=&#x27;ignore&#x27;),\n",
       "                                                  [])])),\n",
       "                (&#x27;smote&#x27;, SMOTE(random_state=1)), (&#x27;scaler&#x27;, MinMaxScaler()),\n",
       "                (&#x27;feature_selection&#x27;,\n",
       "                 SelectKBest(k=6,\n",
       "                             score_func=&lt;function chi2 at 0x0000019819CD8AE0&gt;)),\n",
       "                (&#x27;model&#x27;, SVC())])</pre></div></div></div><div class=\"sk-serial\"><div class=\"sk-item sk-dashed-wrapped\"><div class=\"sk-label-container\"><div class=\"sk-label sk-toggleable\"><input class=\"sk-toggleable__control sk-hidden--visually\" id=\"sk-estimator-id-2\" type=\"checkbox\" ><label for=\"sk-estimator-id-2\" class=\"sk-toggleable__label sk-toggleable__label-arrow\">preprocessor: ColumnTransformer</label><div class=\"sk-toggleable__content\"><pre>ColumnTransformer(remainder=&#x27;passthrough&#x27;,\n",
       "                  transformers=[(&#x27;numeric&#x27;, SimpleImputer(strategy=&#x27;constant&#x27;),\n",
       "                                 [&#x27;Administrative&#x27;, &#x27;Administrative_Duration&#x27;,\n",
       "                                  &#x27;Informational&#x27;, &#x27;Informational_Duration&#x27;,\n",
       "                                  &#x27;ProductRelated&#x27;, &#x27;ProductRelated_Duration&#x27;,\n",
       "                                  &#x27;BounceRates&#x27;, &#x27;ExitRates&#x27;, &#x27;PageValues&#x27;,\n",
       "                                  &#x27;SpecialDay&#x27;, &#x27;Month&#x27;, &#x27;OperatingSystems&#x27;,\n",
       "                                  &#x27;Browser&#x27;, &#x27;Region&#x27;, &#x27;TrafficType&#x27;, &#x27;Weekend&#x27;,\n",
       "                                  &#x27;Returning_Visitor&#x27;]),\n",
       "                                (&#x27;categorical&#x27;,\n",
       "                                 OneHotEncoder(handle_unknown=&#x27;ignore&#x27;), [])])</pre></div></div></div><div class=\"sk-parallel\"><div class=\"sk-parallel-item\"><div class=\"sk-item\"><div class=\"sk-label-container\"><div class=\"sk-label sk-toggleable\"><input class=\"sk-toggleable__control sk-hidden--visually\" id=\"sk-estimator-id-3\" type=\"checkbox\" ><label for=\"sk-estimator-id-3\" class=\"sk-toggleable__label sk-toggleable__label-arrow\">numeric</label><div class=\"sk-toggleable__content\"><pre>[&#x27;Administrative&#x27;, &#x27;Administrative_Duration&#x27;, &#x27;Informational&#x27;, &#x27;Informational_Duration&#x27;, &#x27;ProductRelated&#x27;, &#x27;ProductRelated_Duration&#x27;, &#x27;BounceRates&#x27;, &#x27;ExitRates&#x27;, &#x27;PageValues&#x27;, &#x27;SpecialDay&#x27;, &#x27;Month&#x27;, &#x27;OperatingSystems&#x27;, &#x27;Browser&#x27;, &#x27;Region&#x27;, &#x27;TrafficType&#x27;, &#x27;Weekend&#x27;, &#x27;Returning_Visitor&#x27;]</pre></div></div></div><div class=\"sk-serial\"><div class=\"sk-item\"><div class=\"sk-estimator sk-toggleable\"><input class=\"sk-toggleable__control sk-hidden--visually\" id=\"sk-estimator-id-4\" type=\"checkbox\" ><label for=\"sk-estimator-id-4\" class=\"sk-toggleable__label sk-toggleable__label-arrow\">SimpleImputer</label><div class=\"sk-toggleable__content\"><pre>SimpleImputer(strategy=&#x27;constant&#x27;)</pre></div></div></div></div></div></div><div class=\"sk-parallel-item\"><div class=\"sk-item\"><div class=\"sk-label-container\"><div class=\"sk-label sk-toggleable\"><input class=\"sk-toggleable__control sk-hidden--visually\" id=\"sk-estimator-id-5\" type=\"checkbox\" ><label for=\"sk-estimator-id-5\" class=\"sk-toggleable__label sk-toggleable__label-arrow\">categorical</label><div class=\"sk-toggleable__content\"><pre>[]</pre></div></div></div><div class=\"sk-serial\"><div class=\"sk-item\"><div class=\"sk-estimator sk-toggleable\"><input class=\"sk-toggleable__control sk-hidden--visually\" id=\"sk-estimator-id-6\" type=\"checkbox\" ><label for=\"sk-estimator-id-6\" class=\"sk-toggleable__label sk-toggleable__label-arrow\">OneHotEncoder</label><div class=\"sk-toggleable__content\"><pre>OneHotEncoder(handle_unknown=&#x27;ignore&#x27;)</pre></div></div></div></div></div></div><div class=\"sk-parallel-item\"><div class=\"sk-item\"><div class=\"sk-label-container\"><div class=\"sk-label sk-toggleable\"><input class=\"sk-toggleable__control sk-hidden--visually\" id=\"sk-estimator-id-7\" type=\"checkbox\" ><label for=\"sk-estimator-id-7\" class=\"sk-toggleable__label sk-toggleable__label-arrow\">remainder</label><div class=\"sk-toggleable__content\"><pre>[]</pre></div></div></div><div class=\"sk-serial\"><div class=\"sk-item\"><div class=\"sk-estimator sk-toggleable\"><input class=\"sk-toggleable__control sk-hidden--visually\" id=\"sk-estimator-id-8\" type=\"checkbox\" ><label for=\"sk-estimator-id-8\" class=\"sk-toggleable__label sk-toggleable__label-arrow\">passthrough</label><div class=\"sk-toggleable__content\"><pre>passthrough</pre></div></div></div></div></div></div></div></div><div class=\"sk-item\"><div class=\"sk-estimator sk-toggleable\"><input class=\"sk-toggleable__control sk-hidden--visually\" id=\"sk-estimator-id-9\" type=\"checkbox\" ><label for=\"sk-estimator-id-9\" class=\"sk-toggleable__label sk-toggleable__label-arrow\">SMOTE</label><div class=\"sk-toggleable__content\"><pre>SMOTE(random_state=1)</pre></div></div></div><div class=\"sk-item\"><div class=\"sk-estimator sk-toggleable\"><input class=\"sk-toggleable__control sk-hidden--visually\" id=\"sk-estimator-id-10\" type=\"checkbox\" ><label for=\"sk-estimator-id-10\" class=\"sk-toggleable__label sk-toggleable__label-arrow\">MinMaxScaler</label><div class=\"sk-toggleable__content\"><pre>MinMaxScaler()</pre></div></div></div><div class=\"sk-item\"><div class=\"sk-estimator sk-toggleable\"><input class=\"sk-toggleable__control sk-hidden--visually\" id=\"sk-estimator-id-11\" type=\"checkbox\" ><label for=\"sk-estimator-id-11\" class=\"sk-toggleable__label sk-toggleable__label-arrow\">SelectKBest</label><div class=\"sk-toggleable__content\"><pre>SelectKBest(k=6, score_func=&lt;function chi2 at 0x0000019819CD8AE0&gt;)</pre></div></div></div><div class=\"sk-item\"><div class=\"sk-estimator sk-toggleable\"><input class=\"sk-toggleable__control sk-hidden--visually\" id=\"sk-estimator-id-12\" type=\"checkbox\" ><label for=\"sk-estimator-id-12\" class=\"sk-toggleable__label sk-toggleable__label-arrow\">SVC</label><div class=\"sk-toggleable__content\"><pre>SVC()</pre></div></div></div></div></div></div></div>"
      ],
      "text/plain": [
       "Pipeline(steps=[('preprocessor',\n",
       "                 ColumnTransformer(remainder='passthrough',\n",
       "                                   transformers=[('numeric',\n",
       "                                                  SimpleImputer(strategy='constant'),\n",
       "                                                  ['Administrative',\n",
       "                                                   'Administrative_Duration',\n",
       "                                                   'Informational',\n",
       "                                                   'Informational_Duration',\n",
       "                                                   'ProductRelated',\n",
       "                                                   'ProductRelated_Duration',\n",
       "                                                   'BounceRates', 'ExitRates',\n",
       "                                                   'PageValues', 'SpecialDay',\n",
       "                                                   'Month', 'OperatingSystems',\n",
       "                                                   'Browser', 'Region',\n",
       "                                                   'TrafficType', 'Weekend',\n",
       "                                                   'Returning_Visitor']),\n",
       "                                                 ('categorical',\n",
       "                                                  OneHotEncoder(handle_unknown='ignore'),\n",
       "                                                  [])])),\n",
       "                ('smote', SMOTE(random_state=1)), ('scaler', MinMaxScaler()),\n",
       "                ('feature_selection',\n",
       "                 SelectKBest(k=6,\n",
       "                             score_func=<function chi2 at 0x0000019819CD8AE0>)),\n",
       "                ('model', SVC())])"
      ]
     },
     "execution_count": 89,
     "metadata": {},
     "output_type": "execute_result"
    }
   ],
   "source": [
    "selected_model = SVC()\n",
    "bundled_pipeline = model_pipeline(X_train, selected_model)\n",
    "bundled_pipeline.fit(X_train, y_train)"
   ]
  },
  {
   "cell_type": "markdown",
   "id": "49a39932-ea07-4042-b0d7-fc1c92d6d2a1",
   "metadata": {},
   "source": [
    "Accessing best model and training"
   ]
  },
  {
   "cell_type": "code",
   "execution_count": 90,
   "id": "3b386039-21c0-45ef-9f8f-a5d40e0e3bab",
   "metadata": {},
   "outputs": [
    {
     "name": "stdout",
     "output_type": "stream",
     "text": [
      "[0 0 0 ... 0 0 0]\n"
     ]
    }
   ],
   "source": [
    "y_pred = bundled_pipeline.predict(X_test)\n",
    "\n",
    "print(y_pred)\n"
   ]
  },
  {
   "cell_type": "markdown",
   "id": "4264b17d-c07e-41c6-9f3a-82093888cc4f",
   "metadata": {},
   "source": [
    "ROC and AOC score"
   ]
  },
  {
   "cell_type": "code",
   "execution_count": 91,
   "id": "62851e1e-e03d-4fe4-9f42-73724fb753c1",
   "metadata": {},
   "outputs": [
    {
     "name": "stdout",
     "output_type": "stream",
     "text": [
      "ROC/AUC: 0.7772768502330849\n",
      "Accuracy: 0.8780751554474182\n",
      "F1 score: 0.6330349877949553\n"
     ]
    }
   ],
   "source": [
    "roc_auc = roc_auc_score(y_test, y_pred)\n",
    "accuracy = accuracy_score(y_test, y_pred)\n",
    "f1_score = f1_score(y_test, y_pred)\n",
    "\n",
    "\n",
    "print('ROC/AUC:', roc_auc)\n",
    "print('Accuracy:', accuracy)\n",
    "print('F1 score:', f1_score)"
   ]
  },
  {
   "cell_type": "markdown",
   "id": "a49d52e4-d1fc-48a1-947e-8f8363a397be",
   "metadata": {},
   "source": [
    "Classification report"
   ]
  },
  {
   "cell_type": "code",
   "execution_count": 92,
   "id": "044d5578-eb1c-4c78-9e1a-6482f06bcd8a",
   "metadata": {},
   "outputs": [
    {
     "name": "stdout",
     "output_type": "stream",
     "text": [
      "              precision    recall  f1-score   support\n",
      "\n",
      "           0       0.92      0.93      0.93      3077\n",
      "           1       0.64      0.63      0.63       622\n",
      "\n",
      "    accuracy                           0.88      3699\n",
      "   macro avg       0.78      0.78      0.78      3699\n",
      "weighted avg       0.88      0.88      0.88      3699\n",
      "\n"
     ]
    }
   ],
   "source": [
    "classif_report = classification_report(y_test, y_pred)\n",
    "\n",
    "print(classif_report)"
   ]
  },
  {
   "cell_type": "code",
   "execution_count": null,
   "id": "ef9ce5a9-44f0-4111-9e7d-07c265275b3d",
   "metadata": {},
   "outputs": [],
   "source": []
  }
 ],
 "metadata": {
  "kernelspec": {
   "display_name": "Python 3 (ipykernel)",
   "language": "python",
   "name": "python3"
  },
  "language_info": {
   "codemirror_mode": {
    "name": "ipython",
    "version": 3
   },
   "file_extension": ".py",
   "mimetype": "text/x-python",
   "name": "python",
   "nbconvert_exporter": "python",
   "pygments_lexer": "ipython3",
   "version": "3.11.5"
  }
 },
 "nbformat": 4,
 "nbformat_minor": 5
}
